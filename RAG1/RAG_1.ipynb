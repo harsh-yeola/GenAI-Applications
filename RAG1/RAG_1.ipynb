{
 "cells": [
  {
   "cell_type": "code",
   "execution_count": null,
   "id": "edc918fb",
   "metadata": {},
   "outputs": [],
   "source": [
    "# intallation\n",
    "%pip install --quiet google-ai-generativelanguage==0.6.15\n",
    "%pip install --upgrade --quiet google-generativeai\n",
    "%pip install --upgrade --quiet langchain_community\n",
    "%pip install --upgrade --quiet PyPDF2\n",
    "%pip install --upgrade --quiet langchain-chroma\n",
    "%pip install --upgrade --quiet pypdf"
   ]
  },
  {
   "cell_type": "code",
   "execution_count": 1,
   "id": "2473f8f4",
   "metadata": {},
   "outputs": [
    {
     "name": "stdout",
     "output_type": "stream",
     "text": [
      "\u001b[33m  WARNING: The script dotenv is installed in '/usr/local/python/3.12.1/bin' which is not on PATH.\n",
      "  Consider adding this directory to PATH or, if you prefer to suppress this warning, use --no-warn-script-location.\u001b[0m\u001b[33m\n",
      "\u001b[0m\n",
      "\u001b[1m[\u001b[0m\u001b[34;49mnotice\u001b[0m\u001b[1;39;49m]\u001b[0m\u001b[39;49m A new release of pip is available: \u001b[0m\u001b[31;49m25.1.1\u001b[0m\u001b[39;49m -> \u001b[0m\u001b[32;49m25.2\u001b[0m\n",
      "\u001b[1m[\u001b[0m\u001b[34;49mnotice\u001b[0m\u001b[1;39;49m]\u001b[0m\u001b[39;49m To update, run: \u001b[0m\u001b[32;49mpython -m pip install --upgrade pip\u001b[0m\n",
      "Note: you may need to restart the kernel to use updated packages.\n"
     ]
    }
   ],
   "source": [
    "%pip install --upgrade --quiet langchain_community"
   ]
  },
  {
   "cell_type": "code",
   "execution_count": null,
   "id": "0dc60015",
   "metadata": {},
   "outputs": [
    {
     "name": "stdout",
     "output_type": "stream",
     "text": [
      "hello\n"
     ]
    }
   ],
   "source": [
    "# imports\n",
    "import getpass\n",
    "import os\n",
    "\n",
    "from langchain_community.document_loaders import TextLoader\n",
    "from langchain_community.vectorstores import Chroma\n",
    "from langchain_community.document_loaders import PyPDFLoader\n",
    "from langchain_google_genai import ChatGoogleGenerativeAI\n",
    "from langchain_google_genai import GoogleGenerativeAIEmbeddings\n",
    "from langchain.chains.llm import LLMChain\n",
    "# LangChain I/O\n",
    "from langchain_core.prompts import ChatPromptTemplate\n",
    "from langchain_core.output_parsers import StrOutputParser\n",
    "# LCEL\n",
    "from langchain.schema.runnable import RunnablePassthrough\n",
    "# Summerize document\n",
    "from langchain.chains.combine_documents.stuff import StuffDocumentsChain\n",
    "import textwrap"
   ]
  },
  {
   "cell_type": "code",
   "execution_count": null,
   "id": "9421455f",
   "metadata": {},
   "outputs": [],
   "source": [
    "# Load documents\n",
    "file_path = './Corporate Governance in India.pdf'\n",
    "loader = PyPDFLoader(file_path)\n",
    "documents = loader.load()\n",
    "print(f\"Loaded {len(documents)} documents from the folder.\")"
   ]
  },
  {
   "cell_type": "code",
   "execution_count": null,
   "id": "f7fef928",
   "metadata": {},
   "outputs": [],
   "source": [
    "# setup Google Generative AI\n",
    "if \"GOOGLE_API_KEY\" not in os.environ:\n",
    "    os.environ[\"GOOGLE_API_KEY\"] = getpass.getpass(\"Provide your Google API key here \")"
   ]
  },
  {
   "cell_type": "code",
   "execution_count": null,
   "id": "282ca0dc",
   "metadata": {},
   "outputs": [],
   "source": [
    "# create LLM instance\n",
    "llm = ChatGoogleGenerativeAI(model=\"gemini-2.5-flash\")"
   ]
  },
  {
   "cell_type": "code",
   "execution_count": null,
   "id": "8e019907",
   "metadata": {},
   "outputs": [],
   "source": [
    "# test\n",
    "test_llm_response = llm.invoke(\"Tell me a joke about economics\")\n",
    "print(test_llm_response.content)"
   ]
  },
  {
   "cell_type": "code",
   "execution_count": null,
   "id": "7e18a3ef",
   "metadata": {},
   "outputs": [],
   "source": [
    "# create embeddings model\n",
    "embeddings = GoogleGenerativeAIEmbeddings(model=\"models/gemini-embedding-001\")"
   ]
  },
  {
   "cell_type": "code",
   "execution_count": null,
   "id": "1e36e4c0",
   "metadata": {},
   "outputs": [],
   "source": [
    "# Create Chroma vector store from documents\n",
    "vectorstore = Chroma.from_documents(\n",
    "    documents=documents,\n",
    "    embedding=embeddings,\n",
    "    collection_name=\"my_document_collection\",\n",
    "    persist_directory=\"/content/chroma_db\"\n",
    ")"
   ]
  },
  {
   "cell_type": "code",
   "execution_count": null,
   "id": "8f997c16",
   "metadata": {},
   "outputs": [],
   "source": [
    "retriever = vectorstore.as_retriever(search_kwargs={\"k\": 2})\n",
    "retriever.invoke(\"What this corporate gevernance?\")"
   ]
  },
  {
   "cell_type": "code",
   "execution_count": null,
   "id": "e57334a1",
   "metadata": {},
   "outputs": [],
   "source": [
    "template = \"\"\"Answer the question based only on the following context:\n",
    "{context}\n",
    "\n",
    "Question: {question}\n",
    "\n",
    "Answer: \"\"\"\n",
    "prompt = ChatPromptTemplate.from_template(template)"
   ]
  },
  {
   "cell_type": "code",
   "execution_count": null,
   "id": "e2afd1c3",
   "metadata": {},
   "outputs": [],
   "source": [
    "rag_chain = (\n",
    "    {\"context\": retriever, \"question\": RunnablePassthrough()} | prompt\n",
    ")\n",
    "response = rag_chain.invoke(\"What this corporate gevernance?\")"
   ]
  },
  {
   "cell_type": "code",
   "execution_count": null,
   "id": "beeb9bc3",
   "metadata": {},
   "outputs": [],
   "source": [
    "def docs2str(docs):\n",
    "    return \"\\n\\n\".join(doc.page_content for doc in docs)"
   ]
  },
  {
   "cell_type": "code",
   "execution_count": null,
   "id": "bbf62164",
   "metadata": {},
   "outputs": [],
   "source": [
    "rag_chain = (\n",
    "    {\"context\": retriever | docs2str, \"question\": RunnablePassthrough()}\n",
    "    | prompt\n",
    "    | llm\n",
    "    | StrOutputParser()\n",
    ")\n",
    "question = \"What this corporate gevernance?\"\n",
    "response = rag_chain.invoke(question)\n",
    "print(response)"
   ]
  },
  {
   "cell_type": "code",
   "execution_count": null,
   "id": "8a00b196",
   "metadata": {},
   "outputs": [],
   "source": [
    "question = \"How to achieve corporate gevernance in corporations?\"\n",
    "response = rag_chain.invoke(question)\n",
    "print(response)"
   ]
  },
  {
   "cell_type": "code",
   "execution_count": null,
   "id": "3d90aaec",
   "metadata": {},
   "outputs": [],
   "source": [
    "# Summerize document\n",
    "prompt_template2 = \"\"\"Write a concise summary and with important concepts of the following:\n",
    "\"{text}\"\n",
    "\"\"\"\n",
    "prompt2 = PromptTemplate.from_template(prompt_template2)"
   ]
  },
  {
   "cell_type": "code",
   "execution_count": null,
   "id": "f0ac2bad",
   "metadata": {},
   "outputs": [],
   "source": [
    "llm_chain2 = LLMChain(llm=llm, prompt=prompt2)"
   ]
  },
  {
   "cell_type": "code",
   "execution_count": null,
   "id": "c0afa591",
   "metadata": {},
   "outputs": [],
   "source": [
    "stuff_chain2 = StuffDocumentsChain(\n",
    "    llm_chain=llm_chain2,\n",
    "    document_variable_name=\"text\"\n",
    "  )"
   ]
  },
  {
   "cell_type": "code",
   "execution_count": null,
   "id": "013c675a",
   "metadata": {},
   "outputs": [],
   "source": [
    "output_summary2 = stuff_chain2.run(documents)"
   ]
  },
  {
   "cell_type": "code",
   "execution_count": null,
   "id": "451c98be",
   "metadata": {},
   "outputs": [],
   "source": [
    "wrapped_text2 = textwrap.fill(output_summary2,\n",
    "                             width=100,\n",
    "                             break_long_words=False,\n",
    "                             replace_whitespace=False)\n",
    "print(wrapped_text2)"
   ]
  }
 ],
 "metadata": {
  "kernelspec": {
   "display_name": "Python 3",
   "language": "python",
   "name": "python3"
  },
  "language_info": {
   "codemirror_mode": {
    "name": "ipython",
    "version": 3
   },
   "file_extension": ".py",
   "mimetype": "text/x-python",
   "name": "python",
   "nbconvert_exporter": "python",
   "pygments_lexer": "ipython3",
   "version": "3.12.1"
  }
 },
 "nbformat": 4,
 "nbformat_minor": 5
}
