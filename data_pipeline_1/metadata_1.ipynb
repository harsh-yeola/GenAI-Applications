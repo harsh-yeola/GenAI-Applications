{
 "cells": [
  {
   "cell_type": "markdown",
   "id": "f5b2281f",
   "metadata": {},
   "source": [
    "Add a unique `chunk_id` as metadata during the chunking and embedding phase of RAG ingestion pipeline.<br>\n",
    "“Enterprise Knowledge Lake” for RAG<br>\n",
    "\n",
    "One central vector database serving the entire organization →\n",
    "data is partitioned (department, time) →\n",
    "retrieval is filtered by context + access control →\n",
    "older data is archived or moved to cold storage."
   ]
  },
  {
   "cell_type": "code",
   "execution_count": null,
   "id": "43844d55",
   "metadata": {},
   "outputs": [],
   "source": []
  },
  {
   "cell_type": "code",
   "execution_count": null,
   "id": "bbc8c90c",
   "metadata": {},
   "outputs": [],
   "source": [
    "import hashlib\n",
    "from langchain_core.documents import Document\n",
    "from langchain.text_splitter import RecursiveCharacterTextSplitter\n",
    "\n",
    "def generate_chunk_id(doc_id: str, chunk_content: str, chunk_index: int) -> str:\n",
    "    \"\"\"Generates a deterministic ID for a chunk.\"\"\"\n",
    "    # Combine relevant information: document ID, a content hash (for uniqueness), \n",
    "    # and the index (for order)\n",
    "    content_hash = hashlib.sha256(chunk_content.encode('utf-8')).hexdigest()[:8]\n",
    "    return f\"{doc_id}-{chunk_index}-{content_hash}\"\n",
    "\n",
    "# 1. Simulate Document Loading\n",
    "raw_text = \"Chapter 1. Introduction to RAG. RAG is a great technique. Chapter 2. Advanced Techniques. Metadata is key.\"\n",
    "source_file_id = \"report-2025-Q1\"\n",
    "\n",
    "# Create a single initial Document object\n",
    "original_doc = Document(\n",
    "    page_content=raw_text,\n",
    "    metadata={\"source\": \"annual_report.pdf\", \"doc_id\": source_file_id}\n",
    ")\n",
    "\n",
    "# 2. Chunking and ID Assignment (The Enrichment Step)\n",
    "splitter = RecursiveCharacterTextSplitter(chunk_size=50, chunk_overlap=10)\n",
    "chunks = splitter.split_documents([original_doc])\n",
    "\n",
    "# Assign a unique ID to each chunk\n",
    "enriched_chunks = []\n",
    "for i, chunk in enumerate(chunks):\n",
    "    # 📝 1. Get the base document ID from existing metadata\n",
    "    doc_id = chunk.metadata[\"doc_id\"]\n",
    "    \n",
    "    # 📝 2. Generate the unique chunk ID\n",
    "    new_chunk_id = generate_chunk_id(doc_id, chunk.page_content, i)\n",
    "    \n",
    "    # 📝 3. Add the new chunk ID to the metadata\n",
    "    chunk.metadata[\"chunk_id\"] = new_chunk_id\n",
    "    chunk.metadata[\"chunk_index\"] = i # Optionally store the index too\n",
    "    \n",
    "    enriched_chunks.append(chunk)\n",
    "\n",
    "# 3. Verification\n",
    "for chunk in enriched_chunks:\n",
    "    print(f\"Content: '{chunk.page_content[:30]}...'\")\n",
    "    print(f\"  Metadata: {chunk.metadata}\")\n",
    "\n",
    "# Output:\n",
    "# Content: 'Chapter 1. Introduction to RAG...'\n",
    "#   Metadata: {'source': 'annual_report.pdf', 'doc_id': 'report-2025-Q1', 'chunk_id': 'report-2025-Q1-0-282e35b7', 'chunk_index': 0}\n",
    "# Content: 'RAG is a great technique. Chapte...'\n",
    "#   Metadata: {'source': 'annual_report.pdf', 'doc_id': 'report-2025-Q1', 'chunk_id': 'report-2025-Q1-1-678a9c3d', 'chunk_index': 1}\n",
    "# Content: 'r 2. Advanced Techniques. Metadata is key.'\n",
    "#   Metadata: {'source': 'annual_report.pdf', 'doc_id': 'report-2025-Q1', 'chunk_id': 'report-2025-Q1-2-5d4f1a2e', 'chunk_index': 2}"
   ]
  },
  {
   "cell_type": "code",
   "execution_count": null,
   "id": "10d0b036",
   "metadata": {},
   "outputs": [],
   "source": []
  },
  {
   "cell_type": "code",
   "execution_count": null,
   "metadata": {},
   "outputs": [],
   "source": []
  },
  {
   "cell_type": "code",
   "execution_count": null,
   "metadata": {},
   "outputs": [],
   "source": []
  }
 ],
 "metadata": {
  "language_info": {
   "name": "python"
  }
 },
 "nbformat": 4,
 "nbformat_minor": 5
}
