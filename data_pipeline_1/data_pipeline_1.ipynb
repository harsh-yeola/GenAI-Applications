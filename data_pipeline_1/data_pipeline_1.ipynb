{
 "cells": [
  {
   "cell_type": "code",
   "execution_count": null,
   "id": "a0ff69d8",
   "metadata": {},
   "outputs": [],
   "source": [
    "# pip install required modules"
   ]
  },
  {
   "cell_type": "code",
   "execution_count": null,
   "id": "d4242955",
   "metadata": {},
   "outputs": [],
   "source": [
    "# imports\n",
    "import getpass\n",
    "import os\n",
    "\n",
    "from langchain_community.document_loaders import TextLoader\n",
    "from langchain.text_splitter import CharacterTextSplitter\n",
    "from langchain_community.vectorstores import Chroma\n",
    "# from langchain_community.document_loaders import PyPDFLoader\n",
    "from langchain_google_genai import ChatGoogleGenerativeAI\n",
    "from langchain_google_genai import GoogleGenerativeAIEmbeddings\n",
    "from langchain.chains.llm import LLMChain\n",
    "# LangChain I/O\n",
    "from langchain_core.prompts import ChatPromptTemplate\n",
    "from langchain_core.prompts import PromptTemplate\n",
    "from langchain_core.output_parsers import StrOutputParser\n",
    "# LCEL\n",
    "from langchain.schema.runnable import RunnablePassthrough\n",
    "# Summerize document\n",
    "from langchain.chains.combine_documents.stuff import StuffDocumentsChain\n",
    "import textwrap\n",
    "\n",
    "# for langchain indexing API\n",
    "from langchain.indexes import SQLRecordManager, index"
   ]
  },
  {
   "cell_type": "markdown",
   "id": "25f0e903",
   "metadata": {},
   "source": [
    "Lets add Documents and Embeddings!"
   ]
  },
  {
   "cell_type": "code",
   "execution_count": null,
   "id": "f08bc779",
   "metadata": {},
   "outputs": [],
   "source": [
    "# Load documents\n",
    "file_path = './bella_vista.txt'\n",
    "loader = TextLoader(file_path)\n",
    "documents = loader.load()\n",
    "print(f\"Loaded {len(documents)} documents from the folder.\")\n",
    "\n",
    "\n",
    "text_splitter = CharacterTextSplitter(chunk_size=150, chunk_overlap=20)\n",
    "docs = text_splitter.split_documents(documents)\n",
    "print(len(docs))\n",
    "\n",
    "# create embeddings model\n",
    "embeddings = GoogleGenerativeAIEmbeddings(model=\"models/gemini-embedding-001\")"
   ]
  },
  {
   "cell_type": "code",
   "execution_count": null,
   "id": "a7f77b5e",
   "metadata": {},
   "outputs": [],
   "source": [
    "# Initialize Chroma Vectorstore with OpenAI embeddings\n",
    "collection_name = \"test_index\"\n",
    "vectorstore = Chroma(collection_name=collection_name, embedding_function=embeddings, persist_directory=\"./chroma_db\")\n",
    "\n",
    "# Initialize a record manager to track document writes\n",
    "namespace = f\"chroma/{collection_name}\"\n",
    "record_manager = SQLRecordManager(namespace, db_url=\"sqlite:///record_manager_cache.sql\")\n",
    "record_manager.create_schema()"
   ]
  },
  {
   "cell_type": "code",
   "execution_count": null,
   "id": "c6c1d375",
   "metadata": {},
   "outputs": [],
   "source": [
    "# # Helper function to clear content (used for setup)\n",
    "# def _clear():\n",
    "#     index([], record_manager, vectorstore, cleanup=\"full\", source_id_key=\"source\")\n",
    "\n",
    "# # Clear the vector store and record manager (setup for a clean state)\n",
    "# _clear()"
   ]
  },
  {
   "cell_type": "code",
   "execution_count": null,
   "id": "1074586e",
   "metadata": {},
   "outputs": [],
   "source": [
    "# Index documents with None deletion mode\n",
    "# Feature: No automatic cleanup of old content\n",
    "# Explanation: Only one unique document is added, even though `doc` is provided multiple times.\n",
    "index([doc, doc, doc, doc, doc], \n",
    "    record_manager, \n",
    "    vectorstore, \n",
    "    cleanup=None, \n",
    "    source_id_key=\"source\")"
   ]
  },
  {
   "cell_type": "code",
   "execution_count": null,
   "id": "c4d722fc",
   "metadata": {},
   "outputs": [],
   "source": [
    "# Load documents - doc2\n",
    "file_path2 = './bella_vista_2.txt'\n",
    "loader2 = TextLoader(file_path2)\n",
    "documents2 = loader.load()\n",
    "print(f\"Loaded {len(documents2)} documents from the folder.\")\n",
    "\n",
    "docs2 = text_splitter.split_documents(documents2)\n",
    "print(len(docs2))"
   ]
  },
  {
   "cell_type": "code",
   "execution_count": null,
   "id": "7118d60b",
   "metadata": {},
   "outputs": [],
   "source": [
    "# Index new documents\n",
    "# Explanation: `doc` is skipped (already indexed), and `doc2` is added.\n",
    "index([doc, doc2], \n",
    "    record_manager, \n",
    "    vectorstore, \n",
    "    cleanup=None, \n",
    "    source_id_key=\"source\")"
   ]
  },
  {
   "cell_type": "code",
   "execution_count": null,
   "id": "395f1f55",
   "metadata": {},
   "outputs": [],
   "source": [
    "# Second run skips all content\n",
    "# Explanation: Both documents are already indexed, so nothing is added or updated.\n",
    "index([doc, doc2], \n",
    "    record_manager, \n",
    "    vectorstore, \n",
    "    cleanup=None, \n",
    "    source_id_key=\"source\")"
   ]
  },
  {
   "cell_type": "code",
   "execution_count": null,
   "id": "87ce9343",
   "metadata": {},
   "outputs": [],
   "source": [
    "# Index documents with Incremental deletion mode\n",
    "# Feature: Automatically cleans up old versions of content\n",
    "# Explanation: Both documents are added to the vector store.\n",
    "index(\n",
    "    [doc, doc2],\n",
    "    record_manager,\n",
    "    vectorstore,\n",
    "    cleanup=\"incremental\",\n",
    "    source_id_key=\"source\",\n",
    ")"
   ]
  },
  {
   "cell_type": "code",
   "execution_count": null,
   "id": "62b85019",
   "metadata": {},
   "outputs": [],
   "source": [
    "# Index documents with Full deletion mode\n",
    "# Feature: Cleans up all old content before indexing new documents\n",
    "# Explanation: All previous content is removed, and only the new documents are indexed.\n",
    "index([], \n",
    "record_manager, \n",
    "vectorstore, \n",
    "cleanup=\"full\", \n",
    "source_id_key=\"source\")"
   ]
  }
 ],
 "metadata": {
  "language_info": {
   "name": "python"
  }
 },
 "nbformat": 4,
 "nbformat_minor": 5
}
