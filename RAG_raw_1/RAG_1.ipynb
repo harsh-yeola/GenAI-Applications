{
 "cells": [
  {
   "cell_type": "code",
   "execution_count": null,
   "id": "edc918fb",
   "metadata": {},
   "outputs": [],
   "source": [
    "# # intallation\n",
    "# %pip install --quiet google-ai-generativelanguage==0.6.15\n",
    "# %pip install --upgrade --quiet google-generativeai\n",
    "# %pip install --upgrade --quiet langchain_community\n",
    "# %pip install --upgrade --quiet PyPDF2\n",
    "# %pip install --upgrade --quiet langchain-chroma\n",
    "# %pip install --upgrade --quiet pypdf"
   ]
  },
  {
   "cell_type": "code",
   "execution_count": null,
   "id": "2473f8f4",
   "metadata": {},
   "outputs": [
    {
     "name": "stdout",
     "output_type": "stream",
     "text": [
      "\u001b[33m  WARNING: The script dotenv is installed in '/usr/local/python/3.12.1/bin' which is not on PATH.\n",
      "  Consider adding this directory to PATH or, if you prefer to suppress this warning, use --no-warn-script-location.\u001b[0m\u001b[33m\n",
      "\u001b[0m\n",
      "\u001b[1m[\u001b[0m\u001b[34;49mnotice\u001b[0m\u001b[1;39;49m]\u001b[0m\u001b[39;49m A new release of pip is available: \u001b[0m\u001b[31;49m25.1.1\u001b[0m\u001b[39;49m -> \u001b[0m\u001b[32;49m25.2\u001b[0m\n",
      "\u001b[1m[\u001b[0m\u001b[34;49mnotice\u001b[0m\u001b[1;39;49m]\u001b[0m\u001b[39;49m To update, run: \u001b[0m\u001b[32;49mpython -m pip install --upgrade pip\u001b[0m\n",
      "Note: you may need to restart the kernel to use updated packages.\n"
     ]
    }
   ],
   "source": [
    "# %pip install --upgrade --quiet langchain_community"
   ]
  },
  {
   "cell_type": "code",
   "execution_count": null,
   "id": "0dc60015",
   "metadata": {},
   "outputs": [],
   "source": [
    "# imports\n",
    "import getpass\n",
    "import os\n",
    "\n",
    "from langchain_community.document_loaders import TextLoader\n",
    "from langchain_community.vectorstores import Chroma\n",
    "from langchain_community.document_loaders import PyPDFLoader\n",
    "from langchain_google_genai import ChatGoogleGenerativeAI\n",
    "from langchain_google_genai import GoogleGenerativeAIEmbeddings\n",
    "from langchain.chains.llm import LLMChain\n",
    "# LangChain I/O\n",
    "from langchain_core.prompts import ChatPromptTemplate\n",
    "from langchain_core.prompts import PromptTemplate\n",
    "from langchain_core.output_parsers import StrOutputParser\n",
    "# LCEL\n",
    "from langchain.schema.runnable import RunnablePassthrough\n",
    "# Summerize document\n",
    "from langchain.chains.combine_documents.stuff import StuffDocumentsChain\n",
    "import textwrap"
   ]
  },
  {
   "cell_type": "code",
   "execution_count": 2,
   "id": "9421455f",
   "metadata": {},
   "outputs": [
    {
     "name": "stdout",
     "output_type": "stream",
     "text": [
      "Loaded 64 documents from the folder.\n"
     ]
    }
   ],
   "source": [
    "# Load documents\n",
    "file_path = './Corporate Governance in India.pdf'\n",
    "loader = PyPDFLoader(file_path)\n",
    "documents = loader.load()\n",
    "print(f\"Loaded {len(documents)} documents from the folder.\")"
   ]
  },
  {
   "cell_type": "code",
   "execution_count": 3,
   "id": "f7fef928",
   "metadata": {},
   "outputs": [],
   "source": [
    "# setup Google Generative AI\n",
    "if \"GOOGLE_API_KEY\" not in os.environ:\n",
    "    os.environ[\"GOOGLE_API_KEY\"] = getpass.getpass(\"Provide your Google API key here \")"
   ]
  },
  {
   "cell_type": "code",
   "execution_count": 4,
   "id": "282ca0dc",
   "metadata": {},
   "outputs": [],
   "source": [
    "# create LLM instance\n",
    "llm = ChatGoogleGenerativeAI(model=\"gemini-2.5-flash\")"
   ]
  },
  {
   "cell_type": "code",
   "execution_count": 5,
   "id": "8e019907",
   "metadata": {},
   "outputs": [
    {
     "name": "stdout",
     "output_type": "stream",
     "text": [
      "Here are a few economics jokes for you:\n",
      "\n",
      "1.  **What's the difference between an economist and a dog?**\n",
      "    The dog only has one hand.\n",
      "\n",
      "2.  An economist, a physicist, and a chemist are stranded on a desert island with a can of food but no opener.\n",
      "    *   The physicist says, \"We can drop it from a high tree and use the force of impact.\"\n",
      "    *   The chemist says, \"We can build a fire and heat it to expand the metal until it bursts.\"\n",
      "    *   The economist says, \"Assume we have a can opener...\"\n",
      "\n",
      "3.  **What's the definition of an economist?**\n",
      "    Someone who explains tomorrow why the predictions they made yesterday didn't come true today.\n",
      "\n",
      "4.  **What's an economist's favorite pick-up line?**\n",
      "    \"I've got the supply, baby, if you've got the demand.\"\n"
     ]
    }
   ],
   "source": [
    "# test\n",
    "test_llm_response = llm.invoke(\"Tell me a joke about economics\")\n",
    "print(test_llm_response.content)"
   ]
  },
  {
   "cell_type": "code",
   "execution_count": 6,
   "id": "7e18a3ef",
   "metadata": {},
   "outputs": [],
   "source": [
    "# create embeddings model\n",
    "embeddings = GoogleGenerativeAIEmbeddings(model=\"models/gemini-embedding-001\")"
   ]
  },
  {
   "cell_type": "code",
   "execution_count": 9,
   "id": "1e36e4c0",
   "metadata": {},
   "outputs": [],
   "source": [
    "# Create Chroma vector store from documents\n",
    "vectorstore = Chroma.from_documents(\n",
    "    documents=documents,\n",
    "    embedding=embeddings,\n",
    "    collection_name=\"my_document_collection\",\n",
    "    persist_directory=\"./chroma_db\"\n",
    ")"
   ]
  },
  {
   "cell_type": "code",
   "execution_count": 12,
   "id": "8f997c16",
   "metadata": {},
   "outputs": [
    {
     "data": {
      "text/plain": [
       "[Document(metadata={'source': './Corporate Governance in India.pdf', 'author': 'mk sridhar', 'total_pages': 64, 'creator': 'Microsoft® Word 2016', 'page': 15, 'moddate': '2022-01-28T06:21:12+00:00', 'page_label': '16', 'producer': 'www.ilovepdf.com', 'creationdate': '2022-01-28T06:21:12+00:00'}, page_content='12 \\n \\n \\n \\n \\n1. The Principles of Governance \\n \\n \\nThe OECD Principles of Corporate Governance, endorsed by OECD  Ministries have since become an \\ninternational benchmark for policy makers, investors, corporations and other stakeholders \\nworldwide. They have advanced the corporate governance agenda and provided specific guidance for \\nlegislative and regulatory initiatives in both OECD and non-OECD countries. \\n \\nThese principles are broadly: \\n \\n \\nSource:http://www.oecd.org/daf/ca/Corproate-Governance-Principles-ENG.pdf'),\n",
       " Document(metadata={'producer': 'www.ilovepdf.com', 'source': './Corporate Governance in India.pdf', 'page_label': '21', 'total_pages': 64, 'moddate': '2022-01-28T06:21:12+00:00', 'creator': 'Microsoft® Word 2016', 'author': 'mk sridhar', 'page': 20, 'creationdate': '2022-01-28T06:21:12+00:00'}, page_content='17 \\n \\n \\nThe core concepts Corporate Governance can be summarised as: \\n \\na. Transparency \\n \\nTransparency leads to sufficient reporting without undermining the interest of the \\nclient. This needs the clarification of strategies and actions of the company for those \\nto whom it is accountable. The Financials are prepared in accordance with IFRS, \\nregistry filings are up-to-date, high quality Annual Reports are published,  Web based \\ndisclosure in place and timely accurate disclosures of all material matters are made. \\n \\nb. Rule of law \\n \\nUnderstand and abide by the various Rule of Law enacted. Anticipate future \\nrequirements and prepare well in time to ensure adherence. \\n \\nc. Participation \\n \\nEducate and involve all stakeholders in a fair manner while conducting the business. \\n \\nd. Responsiveness \\n \\nRespond in a timely, transparent and fair manner \\n \\ne. Responsibility. \\n \\nManagement Board is liable to shareholders and shareholders are liable to the \\nManagement Board. Responsibility gives success impetus. \\n \\nf. Equity \\n \\nBeing fair and practice equity. \\n \\ng. Ethics')]"
      ]
     },
     "execution_count": 12,
     "metadata": {},
     "output_type": "execute_result"
    }
   ],
   "source": [
    "retriever = vectorstore.as_retriever(search_kwargs={\"k\": 2})\n",
    "retriever.invoke(\"What this corporate gevernance?\")"
   ]
  },
  {
   "cell_type": "code",
   "execution_count": 13,
   "id": "e57334a1",
   "metadata": {},
   "outputs": [],
   "source": [
    "template = \"\"\"Answer the question based only on the following context:\n",
    "{context}\n",
    "\n",
    "Question: {question}\n",
    "\n",
    "Answer: \"\"\"\n",
    "prompt = ChatPromptTemplate.from_template(template)"
   ]
  },
  {
   "cell_type": "code",
   "execution_count": 14,
   "id": "e2afd1c3",
   "metadata": {},
   "outputs": [],
   "source": [
    "rag_chain = (\n",
    "    {\"context\": retriever, \"question\": RunnablePassthrough()} | prompt\n",
    ")\n",
    "response = rag_chain.invoke(\"What this corporate gevernance?\")"
   ]
  },
  {
   "cell_type": "code",
   "execution_count": 15,
   "id": "4014dd8d",
   "metadata": {},
   "outputs": [
    {
     "data": {
      "text/plain": [
       "ChatPromptValue(messages=[HumanMessage(content=\"Answer the question based only on the following context:\\n[Document(metadata={'total_pages': 64, 'source': './Corporate Governance in India.pdf', 'page_label': '16', 'creator': 'Microsoft® Word 2016', 'creationdate': '2022-01-28T06:21:12+00:00', 'moddate': '2022-01-28T06:21:12+00:00', 'producer': 'www.ilovepdf.com', 'page': 15, 'author': 'mk sridhar'}, page_content='12 \\\\n \\\\n \\\\n \\\\n \\\\n1. The Principles of Governance \\\\n \\\\n \\\\nThe OECD Principles of Corporate Governance, endorsed by OECD  Ministries have since become an \\\\ninternational benchmark for policy makers, investors, corporations and other stakeholders \\\\nworldwide. They have advanced the corporate governance agenda and provided specific guidance for \\\\nlegislative and regulatory initiatives in both OECD and non-OECD countries. \\\\n \\\\nThese principles are broadly: \\\\n \\\\n \\\\nSource:http://www.oecd.org/daf/ca/Corproate-Governance-Principles-ENG.pdf'), Document(metadata={'page': 20, 'source': './Corporate Governance in India.pdf', 'producer': 'www.ilovepdf.com', 'total_pages': 64, 'author': 'mk sridhar', 'creator': 'Microsoft® Word 2016', 'page_label': '21', 'moddate': '2022-01-28T06:21:12+00:00', 'creationdate': '2022-01-28T06:21:12+00:00'}, page_content='17 \\\\n \\\\n \\\\nThe core concepts Corporate Governance can be summarised as: \\\\n \\\\na. Transparency \\\\n \\\\nTransparency leads to sufficient reporting without undermining the interest of the \\\\nclient. This needs the clarification of strategies and actions of the company for those \\\\nto whom it is accountable. The Financials are prepared in accordance with IFRS, \\\\nregistry filings are up-to-date, high quality Annual Reports are published,  Web based \\\\ndisclosure in place and timely accurate disclosures of all material matters are made. \\\\n \\\\nb. Rule of law \\\\n \\\\nUnderstand and abide by the various Rule of Law enacted. Anticipate future \\\\nrequirements and prepare well in time to ensure adherence. \\\\n \\\\nc. Participation \\\\n \\\\nEducate and involve all stakeholders in a fair manner while conducting the business. \\\\n \\\\nd. Responsiveness \\\\n \\\\nRespond in a timely, transparent and fair manner \\\\n \\\\ne. Responsibility. \\\\n \\\\nManagement Board is liable to shareholders and shareholders are liable to the \\\\nManagement Board. Responsibility gives success impetus. \\\\n \\\\nf. Equity \\\\n \\\\nBeing fair and practice equity. \\\\n \\\\ng. Ethics')]\\n\\nQuestion: What this corporate gevernance?\\n\\nAnswer: \", additional_kwargs={}, response_metadata={})])"
      ]
     },
     "execution_count": 15,
     "metadata": {},
     "output_type": "execute_result"
    }
   ],
   "source": [
    "response"
   ]
  },
  {
   "cell_type": "code",
   "execution_count": 18,
   "id": "14cd28e1",
   "metadata": {},
   "outputs": [
    {
     "data": {
      "text/plain": [
       "\"Answer the question based only on the following context:\\n[Document(metadata={'total_pages': 64, 'source': './Corporate Governance in India.pdf', 'page_label': '16', 'creator': 'Microsoft® Word 2016', 'creationdate': '2022-01-28T06:21:12+00:00', 'moddate': '2022-01-28T06:21:12+00:00', 'producer': 'www.ilovepdf.com', 'page': 15, 'author': 'mk sridhar'}, page_content='12 \\\\n \\\\n \\\\n \\\\n \\\\n1. The Principles of Governance \\\\n \\\\n \\\\nThe OECD Principles of Corporate Governance, endorsed by OECD  Ministries have since become an \\\\ninternational benchmark for policy makers, investors, corporations and other stakeholders \\\\nworldwide. They have advanced the corporate governance agenda and provided specific guidance for \\\\nlegislative and regulatory initiatives in both OECD and non-OECD countries. \\\\n \\\\nThese principles are broadly: \\\\n \\\\n \\\\nSource:http://www.oecd.org/daf/ca/Corproate-Governance-Principles-ENG.pdf'), Document(metadata={'page': 20, 'source': './Corporate Governance in India.pdf', 'producer': 'www.ilovepdf.com', 'total_pages': 64, 'author': 'mk sridhar', 'creator': 'Microsoft® Word 2016', 'page_label': '21', 'moddate': '2022-01-28T06:21:12+00:00', 'creationdate': '2022-01-28T06:21:12+00:00'}, page_content='17 \\\\n \\\\n \\\\nThe core concepts Corporate Governance can be summarised as: \\\\n \\\\na. Transparency \\\\n \\\\nTransparency leads to sufficient reporting without undermining the interest of the \\\\nclient. This needs the clarification of strategies and actions of the company for those \\\\nto whom it is accountable. The Financials are prepared in accordance with IFRS, \\\\nregistry filings are up-to-date, high quality Annual Reports are published,  Web based \\\\ndisclosure in place and timely accurate disclosures of all material matters are made. \\\\n \\\\nb. Rule of law \\\\n \\\\nUnderstand and abide by the various Rule of Law enacted. Anticipate future \\\\nrequirements and prepare well in time to ensure adherence. \\\\n \\\\nc. Participation \\\\n \\\\nEducate and involve all stakeholders in a fair manner while conducting the business. \\\\n \\\\nd. Responsiveness \\\\n \\\\nRespond in a timely, transparent and fair manner \\\\n \\\\ne. Responsibility. \\\\n \\\\nManagement Board is liable to shareholders and shareholders are liable to the \\\\nManagement Board. Responsibility gives success impetus. \\\\n \\\\nf. Equity \\\\n \\\\nBeing fair and practice equity. \\\\n \\\\ng. Ethics')]\\n\\nQuestion: What this corporate gevernance?\\n\\nAnswer: \""
      ]
     },
     "execution_count": 18,
     "metadata": {},
     "output_type": "execute_result"
    }
   ],
   "source": [
    "response.messages[0].content"
   ]
  },
  {
   "cell_type": "code",
   "execution_count": 26,
   "id": "bcad3fa5",
   "metadata": {},
   "outputs": [
    {
     "name": "stdout",
     "output_type": "stream",
     "text": [
      "page_content='17 \\n \\n \\nThe core concepts Corporate Governance can be summarised as: \n",
      "\\n \\na.\n",
      "Transparency \\n \\nTransparency leads to sufficient reporting without undermining the interest of the\n",
      "\\nclient. This needs the clarification of strategies and actions of the company for those \\nto whom\n",
      "it is \n",
      "accountable. The Financials are prepared in accordance with IFRS, \\nregistry filings are up-\n",
      "to-date, high \n",
      "quality Annual Reports are published,  Web based \\ndisclosure in place and timely\n",
      "accurate disclosures of \n",
      "all material matters are made. \\n \\nb. Rule of law \\n \\nUnderstand and\n",
      "abide by the various Rule of Law \n",
      "enacted. Anticipate future \\nrequirements and prepare well in time\n",
      "to ensure adherence. \\n \\nc. Participation \n",
      "\\n \\nEducate and involve all stakeholders in a fair\n",
      "manner while conducting the business. \\n \\nd. \n",
      "Responsiveness \\n \\nRespond in a timely, transparent\n",
      "and fair manner \\n \\ne. Responsibility. \\n \\nManagement \n",
      "Board is liable to shareholders and\n",
      "shareholders are liable to the \\nManagement Board. Responsibility gives \n",
      "success impetus. \\n \\nf.\n",
      "Equity \\n \\nBeing fair and practice equity. \\n \\ng. Ethics')\n"
     ]
    }
   ],
   "source": [
    "page_content=\"\"\"page_content='17 \\\\n \\\\n \\\\nThe core concepts Corporate Governance can be summarised as: \n",
    "\\\\n \\\\na. Transparency \\\\n \\\\nTransparency leads to sufficient reporting without undermining the interest of the \n",
    "\\\\nclient. This needs the clarification of strategies and actions of the company for those \\\\nto whom it is \n",
    "accountable. The Financials are prepared in accordance with IFRS, \\\\nregistry filings are up-to-date, high \n",
    "quality Annual Reports are published,  Web based \\\\ndisclosure in place and timely accurate disclosures of \n",
    "all material matters are made. \\\\n \\\\nb. Rule of law \\\\n \\\\nUnderstand and abide by the various Rule of Law \n",
    "enacted. Anticipate future \\\\nrequirements and prepare well in time to ensure adherence. \\\\n \\\\nc. Participation \n",
    "\\\\n \\\\nEducate and involve all stakeholders in a fair manner while conducting the business. \\\\n \\\\nd. \n",
    "Responsiveness \\\\n \\\\nRespond in a timely, transparent and fair manner \\\\n \\\\ne. Responsibility. \\\\n \\\\nManagement \n",
    "Board is liable to shareholders and shareholders are liable to the \\\\nManagement Board. Responsibility gives \n",
    "success impetus. \\\\n \\\\nf. Equity \\\\n \\\\nBeing fair and practice equity. \\\\n \\\\ng. Ethics')\"\"\"\n",
    "\n",
    "\n",
    "print(textwrap.fill(page_content,\n",
    "            width=100,\n",
    "            break_long_words=False,\n",
    "            replace_whitespace=False))\n"
   ]
  },
  {
   "cell_type": "code",
   "execution_count": 27,
   "id": "ffe71c12",
   "metadata": {},
   "outputs": [
    {
     "name": "stdout",
     "output_type": "stream",
     "text": [
      "Answer the question based only on the following context:\n",
      "[Document(metadata={'total_pages': 64,\n",
      "'source': './Corporate Governance in India.pdf', 'page_label': '16', 'creator': 'Microsoft® Word\n",
      "2016', 'creationdate': '2022-01-28T06:21:12+00:00', 'moddate': '2022-01-28T06:21:12+00:00',\n",
      "'producer': 'www.ilovepdf.com', 'page': 15, 'author': 'mk sridhar'}, page_content='12 \\n \\n \\n \\n\n",
      "\\n1. The Principles of Governance \\n \\n \\nThe OECD Principles of Corporate Governance, endorsed by\n",
      "OECD  Ministries have since become an \\ninternational benchmark for policy makers, investors,\n",
      "corporations and other stakeholders \\nworldwide. They have advanced the corporate governance agenda\n",
      "and provided specific guidance for \\nlegislative and regulatory initiatives in both OECD and non-\n",
      "OECD countries. \\n \\nThese principles are broadly: \\n \\n\n",
      "\\nSource:http://www.oecd.org/daf/ca/Corproate-Governance-Principles-ENG.pdf'),\n",
      "Document(metadata={'page': 20, 'source': './Corporate Governance in India.pdf', 'producer':\n",
      "'www.ilovepdf.com', 'total_pages': 64, 'author': 'mk sridhar', 'creator': 'Microsoft® Word 2016',\n",
      "'page_label': '21', 'moddate': '2022-01-28T06:21:12+00:00', 'creationdate':\n",
      "'2022-01-28T06:21:12+00:00'}, page_content='17 \\n \\n \\nThe core concepts Corporate Governance can be\n",
      "summarised as: \\n \\na. Transparency \\n \\nTransparency leads to sufficient reporting without\n",
      "undermining the interest of the \\nclient. This needs the clarification of strategies and actions of\n",
      "the company for those \\nto whom it is accountable. The Financials are prepared in accordance with\n",
      "IFRS, \\nregistry filings are up-to-date, high quality Annual Reports are published,  Web based\n",
      "\\ndisclosure in place and timely accurate disclosures of all material matters are made. \\n \\nb. Rule\n",
      "of law \\n \\nUnderstand and abide by the various Rule of Law enacted. Anticipate future\n",
      "\\nrequirements and prepare well in time to ensure adherence. \\n \\nc. Participation \\n \\nEducate and\n",
      "involve all stakeholders in a fair manner while conducting the business. \\n \\nd. Responsiveness \\n\n",
      "\\nRespond in a timely, transparent and fair manner \\n \\ne. Responsibility. \\n \\nManagement Board is\n",
      "liable to shareholders and shareholders are liable to the \\nManagement Board. Responsibility gives\n",
      "success impetus. \\n \\nf. Equity \\n \\nBeing fair and practice equity. \\n \\ng. Ethics')]\n",
      "\n",
      "Question:\n",
      "What this corporate gevernance?\n",
      "\n",
      "Answer:\n"
     ]
    }
   ],
   "source": [
    "print(textwrap.fill(response.messages[0].content,\n",
    "            width=100,\n",
    "            break_long_words=False,\n",
    "            replace_whitespace=False))"
   ]
  },
  {
   "cell_type": "code",
   "execution_count": 23,
   "id": "beeb9bc3",
   "metadata": {},
   "outputs": [],
   "source": [
    "def docs2str(docs):\n",
    "    return \"\\n\\n\".join(doc.page_content for doc in docs)"
   ]
  },
  {
   "cell_type": "code",
   "execution_count": 24,
   "id": "bbf62164",
   "metadata": {},
   "outputs": [
    {
     "name": "stdout",
     "output_type": "stream",
     "text": [
      "Based on the provided context, Corporate Governance can be understood in two ways:\n",
      "\n",
      "1.  **The OECD Principles of Corporate Governance** are an international benchmark for policy makers, investors, corporations, and other stakeholders worldwide. They have advanced the corporate governance agenda and provided specific guidance for legislative and regulatory initiatives.\n",
      "\n",
      "2.  **The core concepts of Corporate Governance** can be summarised as:\n",
      "    *   **Transparency:** Sufficient reporting without undermining client interest, clarification of strategies and actions, financial reporting in accordance with IFRS, up-to-date registry filings, high-quality Annual Reports, web-based disclosure, and timely accurate disclosures of all material matters.\n",
      "    *   **Rule of law:** Understanding and abiding by enacted laws, anticipating future requirements, and preparing for adherence.\n",
      "    *   **Participation:** Educating and involving all stakeholders fairly.\n",
      "    *   **Responsiveness:** Responding in a timely, transparent, and fair manner.\n",
      "    *   **Responsibility:** Management Board is liable to shareholders and shareholders are liable to the Management Board.\n",
      "    *   **Equity:** Being fair and practicing equity.\n",
      "    *   **Ethics**\n"
     ]
    }
   ],
   "source": [
    "rag_chain = (\n",
    "    {\"context\": retriever | docs2str, \"question\": RunnablePassthrough()}\n",
    "    | prompt\n",
    "    | llm\n",
    "    | StrOutputParser()\n",
    ")\n",
    "question = \"What this corporate gevernance?\"\n",
    "response2 = rag_chain.invoke(question)\n",
    "print(response2)"
   ]
  },
  {
   "cell_type": "code",
   "execution_count": 28,
   "id": "4e7e640b",
   "metadata": {},
   "outputs": [
    {
     "name": "stdout",
     "output_type": "stream",
     "text": [
      "Based on the provided context, Corporate Governance can be understood in two ways:\n",
      "\n",
      "1.  **The OECD\n",
      "Principles of Corporate Governance** are an international benchmark for policy makers, investors,\n",
      "corporations, and other stakeholders worldwide. They have advanced the corporate governance agenda\n",
      "and provided specific guidance for legislative and regulatory initiatives.\n",
      "\n",
      "2.  **The core concepts\n",
      "of Corporate Governance** can be summarised as:\n",
      "    *   **Transparency:** Sufficient reporting\n",
      "without undermining client interest, clarification of strategies and actions, financial reporting in\n",
      "accordance with IFRS, up-to-date registry filings, high-quality Annual Reports, web-based\n",
      "disclosure, and timely accurate disclosures of all material matters.\n",
      "    *   **Rule of law:**\n",
      "Understanding and abiding by enacted laws, anticipating future requirements, and preparing for\n",
      "adherence.\n",
      "    *   **Participation:** Educating and involving all stakeholders fairly.\n",
      "    *\n",
      "**Responsiveness:** Responding in a timely, transparent, and fair manner.\n",
      "    *\n",
      "**Responsibility:** Management Board is liable to shareholders and shareholders are liable to the\n",
      "Management Board.\n",
      "    *   **Equity:** Being fair and practicing equity.\n",
      "    *   **Ethics**\n"
     ]
    }
   ],
   "source": [
    "print(textwrap.fill(response2,\n",
    "            width=100,\n",
    "            break_long_words=False,\n",
    "            replace_whitespace=False))"
   ]
  },
  {
   "cell_type": "code",
   "execution_count": 30,
   "id": "8a00b196",
   "metadata": {},
   "outputs": [
    {
     "name": "stdout",
     "output_type": "stream",
     "text": [
      "Based on the provided context, corporate governance can be achieved by adhering to its core\n",
      "concepts:\n",
      "\n",
      "*   **Transparency:** By ensuring sufficient reporting without undermining client\n",
      "interests, clarifying company strategies and actions, preparing financials in accordance with IFRS,\n",
      "keeping registry filings up-to-date, publishing high-quality Annual Reports, having web-based\n",
      "disclosure in place, and making timely accurate disclosures of all material matters.\n",
      "*   **Rule of\n",
      "law:** By understanding and abiding by various enacted laws, anticipating future requirements, and\n",
      "preparing well in time to ensure adherence.\n",
      "*   **Participation:** By educating and involving all\n",
      "stakeholders in a fair manner while conducting the business.\n",
      "*   **Responsiveness:** By responding\n",
      "in a timely, transparent, and fair manner.\n",
      "*   **Responsibility:** By ensuring the Management Board\n",
      "is liable to shareholders and shareholders are liable to the Management Board.\n",
      "*   **Equity:** By\n",
      "being fair and practicing equity.\n"
     ]
    }
   ],
   "source": [
    "question2 = \"How to achieve corporate gevernance in corporations?\"\n",
    "response3 = rag_chain.invoke(question2)\n",
    "# print(response3)\n",
    "print(textwrap.fill(response3,\n",
    "            width=100,\n",
    "            break_long_words=False,\n",
    "            replace_whitespace=False))"
   ]
  },
  {
   "cell_type": "code",
   "execution_count": 33,
   "id": "3d90aaec",
   "metadata": {},
   "outputs": [],
   "source": [
    "# Summerize document\n",
    "prompt_template2 = \"\"\"Write a concise summary and with important concepts of the following:\n",
    "\"{text}\"\n",
    "\"\"\"\n",
    "prompt2 = PromptTemplate.from_template(prompt_template2)"
   ]
  },
  {
   "cell_type": "code",
   "execution_count": 34,
   "id": "f0ac2bad",
   "metadata": {},
   "outputs": [
    {
     "name": "stderr",
     "output_type": "stream",
     "text": [
      "/tmp/ipykernel_12848/971568334.py:1: LangChainDeprecationWarning: The class `LLMChain` was deprecated in LangChain 0.1.17 and will be removed in 1.0. Use :meth:`~RunnableSequence, e.g., `prompt | llm`` instead.\n",
      "  llm_chain2 = LLMChain(llm=llm, prompt=prompt2)\n"
     ]
    }
   ],
   "source": [
    "llm_chain2 = LLMChain(llm=llm, prompt=prompt2)"
   ]
  },
  {
   "cell_type": "code",
   "execution_count": 35,
   "id": "c0afa591",
   "metadata": {},
   "outputs": [
    {
     "name": "stderr",
     "output_type": "stream",
     "text": [
      "/tmp/ipykernel_12848/4223527360.py:1: LangChainDeprecationWarning: This class is deprecated. Use the `create_stuff_documents_chain` constructor instead. See migration guide here: https://python.langchain.com/docs/versions/migrating_chains/stuff_docs_chain/\n",
      "  stuff_chain2 = StuffDocumentsChain(\n"
     ]
    }
   ],
   "source": [
    "stuff_chain2 = StuffDocumentsChain(\n",
    "    llm_chain=llm_chain2,\n",
    "    document_variable_name=\"text\"\n",
    "  )"
   ]
  },
  {
   "cell_type": "code",
   "execution_count": 36,
   "id": "013c675a",
   "metadata": {},
   "outputs": [
    {
     "name": "stderr",
     "output_type": "stream",
     "text": [
      "/tmp/ipykernel_12848/664794086.py:1: LangChainDeprecationWarning: The method `Chain.run` was deprecated in langchain 0.1.0 and will be removed in 1.0. Use :meth:`~invoke` instead.\n",
      "  output_summary2 = stuff_chain2.run(documents)\n"
     ]
    }
   ],
   "source": [
    "output_summary2 = stuff_chain2.run(documents)"
   ]
  },
  {
   "cell_type": "code",
   "execution_count": 37,
   "id": "451c98be",
   "metadata": {},
   "outputs": [
    {
     "name": "stdout",
     "output_type": "stream",
     "text": [
      "This e-book by CA. M K Sridhar, published by the Southern India Regional Council of The Institute of\n",
      "Chartered Accountants of India, provides a comprehensive overview of Corporate Governance (CG) in\n",
      "India.\n",
      "\n",
      "**Concise Summary:**\n",
      "\n",
      "The e-book \"Corporate Governance in India\" defines Corporate\n",
      "Governance as a framework of internal controls, policies, and procedures designed to ensure\n",
      "transparency, integrity, ethics, and honesty in a company's operations and dealings with\n",
      "stakeholders. It details the evolution of CG in India, largely driven by the Ministry of Corporate\n",
      "Affairs (MCA) and SEBI, through various committees (e.g., Kumaramangalam Birla, Naresh Chandra, N.R.\n",
      "Narayana Murthy) and legislative acts like the Companies Act. Key concepts include the OECD\n",
      "Principles of Corporate Governance, the \"4 Pillars\" (Vision & Mission, Stakeholder Engagement,\n",
      "Compliance & Management, Professional Development & Succession), and the \"4 P's\" (People, Purpose,\n",
      "Process, Performance). The book emphasizes core CG principles such as transparency, accountability,\n",
      "ethics, independence, sustainability, and the critical role of the Board of Directors in their\n",
      "fiduciary capacity. It also highlights the growing importance of Environmental, Social, and\n",
      "Governance (ESG) reporting, the transition to the mandatory Business Responsibility and\n",
      "Sustainability Report (BRSR) for listed entities, and the development of Corporate Governance\n",
      "Scorecards. Finally, it addresses climate-related financial disclosures (TCFD) and acknowledges\n",
      "historical instances of corporate governance failures in India.\n",
      "\n",
      "**Important Concepts:**\n",
      "\n",
      "1.\n",
      "**Definition of Corporate Governance:** A system of internal controls, policies, and procedures that\n",
      "frames a company's operations and interactions with stakeholders, upholding transparency, integrity,\n",
      "ethics, and honesty. It is considered the \"soul of an organization.\"\n",
      "2.  **Evolution in India:** CG\n",
      "guidelines have evolved significantly since 1998, influenced by committees appointed by MCA and\n",
      "SEBI, the Companies Act, SEBI Regulations, and initiatives like the National Foundation for\n",
      "Corporate Governance (NFCG).\n",
      "3.  **Key Principles and Pillars:**\n",
      "    *   **OECD Principles:**\n",
      "International benchmarks focusing on effective framework, shareholder rights, role of institutional\n",
      "investors, stakeholder engagement, disclosure/transparency, and board responsibilities.\n",
      "    *   **4\n",
      "Pillars of Good Governance:** Vision & Mission, Stakeholder Engagement, Compliance & Management\n",
      "(including risk management and performance), and Professional Development & Succession.\n",
      "    *   **4\n",
      "P's for Achievement:** People, Purpose, Process, and Performance.\n",
      "    *   **Core Concepts:**\n",
      "Transparency, Rule of Law, Participation, Responsiveness, Responsibility, Equity, Ethics, Efficiency\n",
      "& Effectiveness, Independence, Sustainability, Accountability, Fairness to all Stakeholders,\n",
      "Trusteeship, Empowerment, Oversight, External Audit, Regulatory Regime, and Whistleblower Policy.\n",
      "4.\n",
      "**Corporate Governance Structure:** Differentiates the roles of the Board of Directors (fiduciary\n",
      "oversight) and Management (running the business). Emphasizes board effectiveness (composition,\n",
      "skills, training, evaluation) and robust IT governance.\n",
      "5.  **Stakeholder Engagement:** Recognizes\n",
      "diverse stakeholders (primary/secondary, social/non-social) and the importance of understanding and\n",
      "engaging with them fairly.\n",
      "6.  **Environmental, Social, and Governance (ESG) & BRSR:** A significant\n",
      "development in CG, moving from voluntary Business Responsibility Reporting (BRR) to the mandatory\n",
      "Business Responsibility and Sustainability Report (BRSR) for top listed entities. BRSR promotes\n",
      "transparent, standardized disclosures on ESG parameters based on the National Guidelines on\n",
      "Responsible Business Conduct (RBC Guidelines).\n",
      "7.  **Corporate Governance Scorecard:** Tools (like\n",
      "those by BSE/IFC/IiAS and ISS ESG) used to evaluate and benchmark companies' governance practices\n",
      "based on publicly available data and global principles.\n",
      "8.  **Climate-Related Financial Disclosures\n",
      "(TCFD):** Emerging requirements for companies to disclose climate-related financial risks and\n",
      "opportunities across four pillars: Governance, Strategy, Risk Management, and Metrics & Targets,\n",
      "integrating with broader sustainability reporting.\n",
      "9.  **Importance and Failures:** Highlights that\n",
      "sound CG is crucial for investor interest, public confidence, and long-term value creation, while\n",
      "also acknowledging that even robust standards cannot prevent all instances of corporate misconduct\n",
      "(e.g., Satyam, Harshad Mehta, IL&FS).\n"
     ]
    }
   ],
   "source": [
    "wrapped_text2 = textwrap.fill(output_summary2,\n",
    "                             width=100,\n",
    "                             break_long_words=False,\n",
    "                             replace_whitespace=False)\n",
    "print(wrapped_text2)"
   ]
  }
 ],
 "metadata": {
  "kernelspec": {
   "display_name": "Python 3",
   "language": "python",
   "name": "python3"
  },
  "language_info": {
   "codemirror_mode": {
    "name": "ipython",
    "version": 3
   },
   "file_extension": ".py",
   "mimetype": "text/x-python",
   "name": "python",
   "nbconvert_exporter": "python",
   "pygments_lexer": "ipython3",
   "version": "3.12.1"
  }
 },
 "nbformat": 4,
 "nbformat_minor": 5
}
